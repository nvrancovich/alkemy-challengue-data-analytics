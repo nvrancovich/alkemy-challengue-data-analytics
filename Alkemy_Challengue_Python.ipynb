{
 "cells": [
  {
   "cell_type": "code",
   "execution_count": 92,
   "id": "8a3337a8",
   "metadata": {},
   "outputs": [],
   "source": [
    "import csv\n",
    "import requests\n",
    "import pandas as pd\n",
    "import io\n",
    "from bs4 import BeautifulSoup\n",
    "import os\n",
    "import datetime"
   ]
  },
  {
   "cell_type": "code",
   "execution_count": 112,
   "id": "412498c8",
   "metadata": {},
   "outputs": [],
   "source": [
    "año = datetime.date.today().year\n",
    "mes = datetime.date.today().month\n",
    "dia = datetime.date.today().day"
   ]
  },
  {
   "cell_type": "code",
   "execution_count": 110,
   "id": "bf5b684e",
   "metadata": {},
   "outputs": [],
   "source": [
    "MESES = {1:'enero',\n",
    "        2:'febrero',\n",
    "        3:'marzo',\n",
    "        4:'abril',\n",
    "        5:'mayo',\n",
    "        6:'junio',\n",
    "        7:'julio',\n",
    "        8:'agosto',\n",
    "        9:'septiembre',\n",
    "        10:'octubre',\n",
    "        11:'noviembre',\n",
    "        12:'diciembre'}"
   ]
  },
  {
   "cell_type": "code",
   "execution_count": 24,
   "id": "fe59993c",
   "metadata": {},
   "outputs": [],
   "source": [
    "urls = {\n",
    "    'museos':'https://datos.gob.ar/dataset/cultura-mapa-cultural-espacios-culturales/archivo/cultura_4207def0-2ff7-41d5-9095-d42ae8207a5d',\n",
    "    'salas_de_cine':'https://datos.gob.ar/dataset/cultura-mapa-cultural-espacios-culturales/archivo/cultura_392ce1a8-ef11-4776-b280-6f1c7fae16ae',\n",
    "    'biblotecas_populares':'https://datos.gob.ar/dataset/cultura-mapa-cultural-espacios-culturales/archivo/cultura_01c6c048-dbeb-44e0-8efa-6944f73715d7'\n",
    "    }"
   ]
  },
  {
   "cell_type": "code",
   "execution_count": 66,
   "id": "f213c154",
   "metadata": {},
   "outputs": [
    {
     "name": "stdout",
     "output_type": "stream",
     "text": [
      "museos\n",
      "salas_de_cine\n",
      "biblotecas_populares\n"
     ]
    }
   ],
   "source": [
    "for key in urls:\n",
    "    print(key)"
   ]
  },
  {
   "cell_type": "code",
   "execution_count": 33,
   "id": "681463f5",
   "metadata": {},
   "outputs": [],
   "source": [
    "def descargar_csv(url):\n",
    "    r = requests.get(url)\n",
    "    s = BeautifulSoup(r.text, 'lxml')\n",
    "    csv_url = s.find('a', attrs = {'class':'btn btn-green btn-block'}).get('href')\n",
    "    r = requests.get(csv_url)\n",
    "    r.encoding = 'utf-8'\n",
    "    csvio = io.StringIO(r.text, newline=\"\")\n",
    "    data = []\n",
    "    for row in csv.DictReader(csvio):\n",
    "        data.append(row)\n",
    "    df = pd.DataFrame(data)\n",
    "    return df"
   ]
  },
  {
   "cell_type": "code",
   "execution_count": 85,
   "id": "547556b9",
   "metadata": {},
   "outputs": [
    {
     "name": "stdout",
     "output_type": "stream",
     "text": [
      "museos https://datos.gob.ar/dataset/cultura-mapa-cultural-espacios-culturales/archivo/cultura_4207def0-2ff7-41d5-9095-d42ae8207a5d\n",
      "salas_de_cine https://datos.gob.ar/dataset/cultura-mapa-cultural-espacios-culturales/archivo/cultura_392ce1a8-ef11-4776-b280-6f1c7fae16ae\n",
      "biblotecas_populares https://datos.gob.ar/dataset/cultura-mapa-cultural-espacios-culturales/archivo/cultura_01c6c048-dbeb-44e0-8efa-6944f73715d7\n"
     ]
    }
   ],
   "source": [
    "dfs = {}\n",
    "for key, value in urls.items():    \n",
    "    dfs[key] = descargar_csv(value)\n",
    "    print(key, value)"
   ]
  },
  {
   "cell_type": "code",
   "execution_count": 118,
   "id": "c97c37d9",
   "metadata": {},
   "outputs": [
    {
     "name": "stdout",
     "output_type": "stream",
     "text": [
      "Directorio museos creado\n",
      "Directorio salas_de_cine creado\n",
      "Directorio biblotecas_populares creado\n"
     ]
    }
   ],
   "source": [
    "for key in dfs:\n",
    "    año_mes_ruta = f'{key}/{año}-{MESES[mes]}'\n",
    "    if not os.path.exists(key):\n",
    "        os.mkdir(key)\n",
    "        print(\"Directorio\" , key ,  \"creado\")\n",
    "        if not os.path.exists(año_mes_ruta):\n",
    "            os.mkdir(año_mes_ruta)\n",
    "    else:    \n",
    "        print(\"Directorio\" , key ,  \"ya existe\")"
   ]
  },
  {
   "cell_type": "code",
   "execution_count": 116,
   "id": "c316cae1",
   "metadata": {},
   "outputs": [],
   "source": [
    "for key in dfs:\n",
    "    dfs[key].to_csv(f'{key}/{año}-{MESES[mes]}/{key}-{dia}-{mes}-{año}.csv', index = False)"
   ]
  }
 ],
 "metadata": {
  "kernelspec": {
   "display_name": "Python 3",
   "language": "python",
   "name": "python3"
  },
  "language_info": {
   "codemirror_mode": {
    "name": "ipython",
    "version": 3
   },
   "file_extension": ".py",
   "mimetype": "text/x-python",
   "name": "python",
   "nbconvert_exporter": "python",
   "pygments_lexer": "ipython3",
   "version": "3.8.8"
  }
 },
 "nbformat": 4,
 "nbformat_minor": 5
}
