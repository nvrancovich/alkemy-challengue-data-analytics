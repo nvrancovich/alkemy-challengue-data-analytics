{
 "cells": [
  {
   "cell_type": "code",
   "execution_count": 1,
   "id": "8a3337a8",
   "metadata": {},
   "outputs": [],
   "source": [
    "import csv\n",
    "import requests\n",
    "import pandas as pd\n",
    "import io\n",
    "from bs4 import BeautifulSoup"
   ]
  },
  {
   "cell_type": "code",
   "execution_count": 2,
   "id": "fe59993c",
   "metadata": {},
   "outputs": [],
   "source": [
    "urls = [\n",
    "    'https://datos.gob.ar/dataset/cultura-mapa-cultural-espacios-culturales/archivo/cultura_4207def0-2ff7-41d5-9095-d42ae8207a5d',\n",
    "    'https://datos.gob.ar/dataset/cultura-mapa-cultural-espacios-culturales/archivo/cultura_392ce1a8-ef11-4776-b280-6f1c7fae16ae',\n",
    "    'https://datos.gob.ar/dataset/cultura-mapa-cultural-espacios-culturales/archivo/cultura_01c6c048-dbeb-44e0-8efa-6944f73715d7'\n",
    "]"
   ]
  },
  {
   "cell_type": "code",
   "execution_count": 3,
   "id": "681463f5",
   "metadata": {},
   "outputs": [],
   "source": [
    "def descargar_csv(url):\n",
    "    r = requests.get(url)\n",
    "    s = BeautifulSoup(r.text, 'lxml')\n",
    "    csv_url = s.find('a', attrs = {'class':'btn btn-green btn-block'}).get('href')\n",
    "    r = requests.get(csv_url)\n",
    "    r.encoding = 'utf-8'\n",
    "    csvio = io.StringIO(r.text, newline=\"\")\n",
    "    data = []\n",
    "    for row in csv.DictReader(csvio):\n",
    "        data.append(row)\n",
    "    df = pd.DataFrame(data)\n",
    "    return df"
   ]
  },
  {
   "cell_type": "code",
   "execution_count": 4,
   "id": "547556b9",
   "metadata": {},
   "outputs": [
    {
     "name": "stdout",
     "output_type": "stream",
     "text": [
      "https://datos.gob.ar/dataset/cultura-mapa-cultural-espacios-culturales/archivo/cultura_4207def0-2ff7-41d5-9095-d42ae8207a5d\n",
      "https://datos.gob.ar/dataset/cultura-mapa-cultural-espacios-culturales/archivo/cultura_392ce1a8-ef11-4776-b280-6f1c7fae16ae\n",
      "https://datos.gob.ar/dataset/cultura-mapa-cultural-espacios-culturales/archivo/cultura_01c6c048-dbeb-44e0-8efa-6944f73715d7\n"
     ]
    }
   ],
   "source": [
    "dfs = []\n",
    "for url in urls:    \n",
    "    dfs.append(descargar_csv(url))\n",
    "    print(url)"
   ]
  },
  {
   "cell_type": "code",
   "execution_count": 10,
   "id": "c316cae1",
   "metadata": {},
   "outputs": [],
   "source": [
    "dfs[0].to_csv('museos.csv', index = False)"
   ]
  }
 ],
 "metadata": {
  "kernelspec": {
   "display_name": "Python 3",
   "language": "python",
   "name": "python3"
  },
  "language_info": {
   "codemirror_mode": {
    "name": "ipython",
    "version": 3
   },
   "file_extension": ".py",
   "mimetype": "text/x-python",
   "name": "python",
   "nbconvert_exporter": "python",
   "pygments_lexer": "ipython3",
   "version": "3.8.8"
  }
 },
 "nbformat": 4,
 "nbformat_minor": 5
}
